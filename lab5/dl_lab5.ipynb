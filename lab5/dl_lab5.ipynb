{
  "cells": [
    {
      "cell_type": "code",
      "execution_count": null,
      "id": "db49a0fa",
      "metadata": {
        "id": "db49a0fa"
      },
      "outputs": [],
      "source": [
        "import torch\n",
        "from torchvision import transforms\n",
        "from torch.utils.data import Dataset\n",
        "\n",
        "class MyDataset(Dataset):\n",
        "  def __init__(self, size=5000, dim=40, random_offset=0):\n",
        "        super(MyDataset, self).__init__()\n",
        "        self.size = size\n",
        "        self.dim = dim\n",
        "        self.random_offset = random_offset\n",
        "\n",
        "  def __getitem__(self, index):\n",
        "      if index >= len(self):\n",
        "          raise IndexError(\"{} index out of range\".format(self.__class__.__name__))\n",
        "\n",
        "      rng_state = torch.get_rng_state()\n",
        "      torch.manual_seed(index + self.random_offset)\n",
        "\n",
        "      while True:\n",
        "        img = torch.zeros(self.dim, self.dim)\n",
        "        dx = torch.randint(-10,10,(1,),dtype=torch.float)\n",
        "        dy = torch.randint(-10,10,(1,),dtype=torch.float)\n",
        "        c = torch.randint(-20,20,(1,), dtype=torch.float)\n",
        "\n",
        "        params = torch.cat((dy/dx, c))\n",
        "        xy = torch.randint(0,img.shape[1], (20, 2), dtype=torch.float)\n",
        "        xy[:,1] = xy[:,0] * params[0] + params[1]\n",
        "\n",
        "        xy.round_()\n",
        "        xy = xy[ xy[:,1] > 0 ]\n",
        "        xy = xy[ xy[:,1] < self.dim ]\n",
        "        xy = xy[ xy[:,0] < self.dim ]\n",
        "\n",
        "        for i in range(xy.shape[0]):\n",
        "          x, y = xy[i][0], self.dim - xy[i][1]\n",
        "          img[int(y), int(x)]=1\n",
        "        if img.sum() > 2:\n",
        "          break\n",
        "\n",
        "      torch.set_rng_state(rng_state)\n",
        "      return img.unsqueeze(0), params\n",
        "\n",
        "  def __len__(self):\n",
        "      return self.size\n",
        "    \n",
        "    \n",
        "device = torch.device(\"cuda\" if torch.cuda.is_available() else \"cpu\")\n",
        "    \n",
        "\n",
        "train_data = MyDataset()\n",
        "val_data = MyDataset(size=500, random_offset=33333)\n",
        "test_data = MyDataset(size=500, random_offset=99999)"
      ]
    },
    {
      "cell_type": "code",
      "execution_count": null,
      "id": "4eed010d",
      "metadata": {
        "id": "4eed010d"
      },
      "outputs": [],
      "source": [
        "import torch.nn as nn\n",
        "import torch.nn.functional as F\n",
        "import torch.nn\n",
        "from torch.utils.data import DataLoader\n",
        "\n",
        "seed = 7\n",
        "torch.manual_seed(seed)\n",
        "torch.backends.cudnn.deterministic = True"
      ]
    },
    {
      "cell_type": "code",
      "execution_count": null,
      "id": "801eb350",
      "metadata": {
        "id": "801eb350"
      },
      "outputs": [],
      "source": [
        "transform = transforms.Compose([transforms.ToTensor()])\n",
        "trainloader = DataLoader(train_data,batch_size= 128, shuffle=True)\n",
        "testloader = DataLoader(test_data,batch_size= 128, shuffle=True)\n"
      ]
    },
    {
      "cell_type": "code",
      "execution_count": null,
      "id": "47cd0f79",
      "metadata": {
        "id": "47cd0f79"
      },
      "outputs": [],
      "source": [
        "class CNN(nn.Module):\n",
        "    def __init__(self):\n",
        "        super(CNN,self).__init__()\n",
        "        self.conv1 = nn.Conv2d(1,48,(3,3),stride=1,padding=1) # out 48 * 40*40\n",
        "        self.fc1 = nn.Linear(48* 40*40,128)\n",
        "        self.fc2 = nn.Linear(128 ,2)\n",
        "        \n",
        "    def forward(self, x):\n",
        "        out = self.conv1(x)\n",
        "        out = F.relu(out)\n",
        "        out = out.view(out.shape[0],-1)\n",
        "        out = self.fc1(out)\n",
        "        out = F.relu(out)\n",
        "        out = self.fc2(out)\n",
        "        return out      "
      ]
    },
    {
      "cell_type": "code",
      "source": [
        "class CNN2(nn.Module):\n",
        "    def __init__(self):\n",
        "        super(CNN2,self).__init__()\n",
        "        self.conv1 = nn.Conv2d(1,48,(3,3),stride=1,padding=1) # out 48 * 40*40\n",
        "        self.conv2 = nn.Conv2d(48,48,(3,3),stride=1,padding=1) # out 48 * 40*40\n",
        "        self.fc1 = nn.Linear(48,128)\n",
        "        self.fc2 = nn.Linear(128 ,2)\n",
        "        \n",
        "    def forward(self, x):\n",
        "        out = self.conv1(x)\n",
        "        out = F.relu(out)\n",
        "        out = self.conv2(out)\n",
        "        out = F.relu(out)\n",
        "        pooling = nn.AdaptiveMaxPool2d((1,1))\n",
        "        out = pooling(out)\n",
        "        out = out.view(out.shape[0],-1)\n",
        "        out = self.fc1(out)\n",
        "        out = F.relu(out)\n",
        "        out = self.fc2(out)\n",
        "        return out "
      ],
      "metadata": {
        "id": "jMOuHa6LQsun"
      },
      "id": "jMOuHa6LQsun",
      "execution_count": null,
      "outputs": []
    },
    {
      "cell_type": "code",
      "source": [
        "class CNN3(nn.Module):\n",
        "    def __init__(self):\n",
        "        super(CNN3,self).__init__()\n",
        "        self.conv1 = nn.Conv2d(3,48,(3,3),stride=1,padding=1) # out 48 * 40*40\n",
        "        self.conv2 = nn.Conv2d(48,48,(3,3),stride=1,padding=1) # out 48 * 40*40\n",
        "        self.fc1 = nn.Linear(48,128)\n",
        "        self.fc2 = nn.Linear(128 ,2)\n",
        "        \n",
        "    def forward(self, x):\n",
        "        idxx = torch.repeat_interleave(torch.arange(-20,20,dtype=torch.float).unsqueeze(0)/40.0,repeats=40,dim=0).to(device)\n",
        "        idxy = idxx.clone().t()\n",
        "        idx = torch.stack([idxx,idxy]).unsqueeze(0)\n",
        "        idx = torch.repeat_interleave(idx,repeats=x.shape[0],dim=0)\n",
        "        x = torch.cat([x,idx],dim=1)\n",
        "        out = self.conv1(x)\n",
        "        out = F.relu(out)\n",
        "        out = self.conv2(out)\n",
        "        out = F.relu(out)\n",
        "        pooling = nn.AdaptiveMaxPool2d((1,1))\n",
        "        out = pooling(out)\n",
        "        out = out.view(out.shape[0],-1)\n",
        "        out = self.fc1(out)\n",
        "        out = F.relu(out)\n",
        "        out = self.fc2(out)\n",
        "        return out "
      ],
      "metadata": {
        "id": "eSG5QPeW91Yc"
      },
      "id": "eSG5QPeW91Yc",
      "execution_count": null,
      "outputs": []
    },
    {
      "cell_type": "code",
      "execution_count": null,
      "id": "2956a9e4",
      "metadata": {
        "id": "2956a9e4",
        "colab": {
          "base_uri": "https://localhost:8080/",
          "height": 954
        },
        "outputId": "7bcebeca-7c15-47b9-a339-80031d920169"
      },
      "outputs": [
        {
          "output_type": "stream",
          "name": "stdout",
          "text": [
            "tensor([[[0., 0., 0.,  ..., 0., 0., 0.],\n",
            "         [0., 0., 0.,  ..., 0., 0., 0.],\n",
            "         [0., 0., 0.,  ..., 0., 0., 0.],\n",
            "         ...,\n",
            "         [0., 0., 0.,  ..., 0., 0., 0.],\n",
            "         [0., 0., 0.,  ..., 0., 0., 0.],\n",
            "         [0., 0., 0.,  ..., 0., 0., 0.]]], device='cuda:0')\n",
            "torch.Size([1, 40, 40])\n",
            "tensor([[[ 0.0000,  0.0000,  0.0000,  ...,  0.0000,  0.0000,  0.0000],\n",
            "         [ 0.0000,  0.0000,  0.0000,  ...,  0.0000,  0.0000,  0.0000],\n",
            "         [ 0.0000,  0.0000,  0.0000,  ...,  0.0000,  0.0000,  0.0000],\n",
            "         ...,\n",
            "         [ 0.0000,  0.0000,  0.0000,  ...,  0.0000,  0.0000,  0.0000],\n",
            "         [ 0.0000,  0.0000,  0.0000,  ...,  0.0000,  0.0000,  0.0000],\n",
            "         [ 0.0000,  0.0000,  0.0000,  ...,  0.0000,  0.0000,  0.0000]],\n",
            "\n",
            "        [[-0.5000, -0.4750, -0.4500,  ...,  0.4250,  0.4500,  0.4750],\n",
            "         [-0.5000, -0.4750, -0.4500,  ...,  0.4250,  0.4500,  0.4750],\n",
            "         [-0.5000, -0.4750, -0.4500,  ...,  0.4250,  0.4500,  0.4750],\n",
            "         ...,\n",
            "         [-0.5000, -0.4750, -0.4500,  ...,  0.4250,  0.4500,  0.4750],\n",
            "         [-0.5000, -0.4750, -0.4500,  ...,  0.4250,  0.4500,  0.4750],\n",
            "         [-0.5000, -0.4750, -0.4500,  ...,  0.4250,  0.4500,  0.4750]],\n",
            "\n",
            "        [[-0.5000, -0.5000, -0.5000,  ..., -0.5000, -0.5000, -0.5000],\n",
            "         [-0.4750, -0.4750, -0.4750,  ..., -0.4750, -0.4750, -0.4750],\n",
            "         [-0.4500, -0.4500, -0.4500,  ..., -0.4500, -0.4500, -0.4500],\n",
            "         ...,\n",
            "         [ 0.4250,  0.4250,  0.4250,  ...,  0.4250,  0.4250,  0.4250],\n",
            "         [ 0.4500,  0.4500,  0.4500,  ...,  0.4500,  0.4500,  0.4500],\n",
            "         [ 0.4750,  0.4750,  0.4750,  ...,  0.4750,  0.4750,  0.4750]]],\n",
            "       device='cuda:0')\n",
            "torch.Size([3, 40, 40])\n"
          ]
        },
        {
          "output_type": "error",
          "ename": "KeyboardInterrupt",
          "evalue": "ignored",
          "traceback": [
            "\u001b[0;31m---------------------------------------------------------------------------\u001b[0m",
            "\u001b[0;31mKeyboardInterrupt\u001b[0m                         Traceback (most recent call last)",
            "\u001b[0;32m<ipython-input-6-86143e5d3eeb>\u001b[0m in \u001b[0;36m<module>\u001b[0;34m()\u001b[0m\n\u001b[1;32m     16\u001b[0m         \u001b[0mdata\u001b[0m\u001b[0;34m,\u001b[0m\u001b[0mtargets\u001b[0m \u001b[0;34m=\u001b[0m \u001b[0mbatch\u001b[0m\u001b[0;34m\u001b[0m\u001b[0;34m\u001b[0m\u001b[0m\n\u001b[1;32m     17\u001b[0m         \u001b[0madam_opt\u001b[0m\u001b[0;34m.\u001b[0m\u001b[0mzero_grad\u001b[0m\u001b[0;34m(\u001b[0m\u001b[0;34m)\u001b[0m\u001b[0;34m\u001b[0m\u001b[0;34m\u001b[0m\u001b[0m\n\u001b[0;32m---> 18\u001b[0;31m         \u001b[0mout\u001b[0m \u001b[0;34m=\u001b[0m \u001b[0mmodel\u001b[0m\u001b[0;34m.\u001b[0m\u001b[0mforward\u001b[0m\u001b[0;34m(\u001b[0m\u001b[0mdata\u001b[0m\u001b[0;34m.\u001b[0m\u001b[0mto\u001b[0m\u001b[0;34m(\u001b[0m\u001b[0mdevice\u001b[0m\u001b[0;34m)\u001b[0m\u001b[0;34m)\u001b[0m\u001b[0;34m\u001b[0m\u001b[0;34m\u001b[0m\u001b[0m\n\u001b[0m\u001b[1;32m     19\u001b[0m         \u001b[0mloss\u001b[0m \u001b[0;34m=\u001b[0m \u001b[0mloss_func\u001b[0m\u001b[0;34m(\u001b[0m\u001b[0mout\u001b[0m\u001b[0;34m.\u001b[0m\u001b[0mto\u001b[0m\u001b[0;34m(\u001b[0m\u001b[0mdevice\u001b[0m\u001b[0;34m)\u001b[0m\u001b[0;34m,\u001b[0m\u001b[0mtargets\u001b[0m\u001b[0;34m.\u001b[0m\u001b[0mto\u001b[0m\u001b[0;34m(\u001b[0m\u001b[0mdevice\u001b[0m\u001b[0;34m)\u001b[0m\u001b[0;34m)\u001b[0m\u001b[0;34m.\u001b[0m\u001b[0mto\u001b[0m\u001b[0;34m(\u001b[0m\u001b[0mdevice\u001b[0m\u001b[0;34m)\u001b[0m\u001b[0;34m\u001b[0m\u001b[0;34m\u001b[0m\u001b[0m\n\u001b[1;32m     20\u001b[0m         \u001b[0mloss\u001b[0m\u001b[0;34m.\u001b[0m\u001b[0mbackward\u001b[0m\u001b[0;34m(\u001b[0m\u001b[0;34m)\u001b[0m\u001b[0;34m\u001b[0m\u001b[0;34m\u001b[0m\u001b[0m\n",
            "\u001b[0;32m<ipython-input-5-bae84ba3b2d9>\u001b[0m in \u001b[0;36mforward\u001b[0;34m(self, x)\u001b[0m\n\u001b[1;32m     18\u001b[0m         \u001b[0mprint\u001b[0m\u001b[0;34m(\u001b[0m\u001b[0mx\u001b[0m\u001b[0;34m[\u001b[0m\u001b[0;36m120\u001b[0m\u001b[0;34m]\u001b[0m\u001b[0;34m.\u001b[0m\u001b[0mshape\u001b[0m\u001b[0;34m)\u001b[0m\u001b[0;34m\u001b[0m\u001b[0;34m\u001b[0m\u001b[0m\n\u001b[1;32m     19\u001b[0m         \u001b[0;32mimport\u001b[0m \u001b[0mtime\u001b[0m\u001b[0;34m\u001b[0m\u001b[0;34m\u001b[0m\u001b[0m\n\u001b[0;32m---> 20\u001b[0;31m         \u001b[0mtime\u001b[0m\u001b[0;34m.\u001b[0m\u001b[0msleep\u001b[0m\u001b[0;34m(\u001b[0m\u001b[0;36m1000\u001b[0m\u001b[0;34m)\u001b[0m\u001b[0;34m\u001b[0m\u001b[0;34m\u001b[0m\u001b[0m\n\u001b[0m\u001b[1;32m     21\u001b[0m         \u001b[0mout\u001b[0m \u001b[0;34m=\u001b[0m \u001b[0mself\u001b[0m\u001b[0;34m.\u001b[0m\u001b[0mconv1\u001b[0m\u001b[0;34m(\u001b[0m\u001b[0mx\u001b[0m\u001b[0;34m)\u001b[0m\u001b[0;34m\u001b[0m\u001b[0;34m\u001b[0m\u001b[0m\n\u001b[1;32m     22\u001b[0m         \u001b[0mout\u001b[0m \u001b[0;34m=\u001b[0m \u001b[0mF\u001b[0m\u001b[0;34m.\u001b[0m\u001b[0mrelu\u001b[0m\u001b[0;34m(\u001b[0m\u001b[0mout\u001b[0m\u001b[0;34m)\u001b[0m\u001b[0;34m\u001b[0m\u001b[0;34m\u001b[0m\u001b[0m\n",
            "\u001b[0;31mKeyboardInterrupt\u001b[0m: "
          ]
        }
      ],
      "source": [
        "loss_func = F.mse_loss\n",
        "# model = CNN().to(device)\n",
        "# model = CNN2().to(device) \n",
        "model = CNN3().to(device)\n",
        "\n",
        "adam_opt = torch.optim.Adam(params=model.parameters())\n",
        "epochs = 100\n",
        "\n",
        "loss_list1 = []\n",
        "loss_list2 = []\n",
        "\n",
        "for epoch in range(epochs):\n",
        "    # training \n",
        "    loss_sum = 0\n",
        "    for batch in trainloader:\n",
        "        data,targets = batch\n",
        "        adam_opt.zero_grad()\n",
        "        out = model.forward(data.to(device))\n",
        "        loss = loss_func(out.to(device),targets.to(device)).to(device)\n",
        "        loss.backward()\n",
        "        loss_sum += loss\n",
        "        adam_opt.step()\n",
        "    print(\"Epoch:{}, loss={}\".format(epoch,loss_sum))\n",
        "    \n",
        "    # training loss\n",
        "    training_loss = 0\n",
        "    for batch in trainloader:\n",
        "        data,targets = batch\n",
        "        out = model.forward(data.to(device))\n",
        "        loss = loss_func(out.to(device),targets.to(device)).to(device)\n",
        "        training_loss += loss\n",
        "    #test\n",
        "    test_loss = 0\n",
        "    for batch in testloader:\n",
        "        data,targets = batch\n",
        "        out = model.forward(data.to(device))\n",
        "        loss = loss_func(out.to(device),targets.to(device)).to(device)\n",
        "        test_loss += loss\n",
        "    print(\"Training loss:{}, test loss: {}\".format(training_loss/len(trainloader),test_loss/len(testloader)))\n",
        "    loss_list1.append(training_loss.item()/len(trainloader))\n",
        "    loss_list2.append(test_loss.item()/len(testloader))"
      ]
    },
    {
      "cell_type": "code",
      "source": [
        ""
      ],
      "metadata": {
        "id": "Y8e8xUBW9E1X"
      },
      "id": "Y8e8xUBW9E1X",
      "execution_count": null,
      "outputs": []
    },
    {
      "cell_type": "code",
      "execution_count": null,
      "id": "484eadf8",
      "metadata": {
        "id": "484eadf8",
        "colab": {
          "base_uri": "https://localhost:8080/",
          "height": 283
        },
        "outputId": "a60c87bc-d9a0-4491-ee43-2656119f0e56"
      },
      "outputs": [
        {
          "output_type": "display_data",
          "data": {
            "text/plain": [
              "<Figure size 576x288 with 1 Axes>"
            ],
            "image/png": "[encoded data removed]"
          },
          "metadata": {
            "needs_background": "light"
          }
        }
      ],
      "source": [
        "import matplotlib.pyplot as plt\n",
        "\n",
        "fig, ax = plt.subplots(figsize = (8,4))\n",
        "ax.plot(loss_list1, color = \"red\",label=\"training\")\n",
        "ax.plot(loss_list2, color = \"blue\",label=\"test\")\n",
        "ax.grid(True)\n",
        "plt.ylabel(\"Loss\")\n",
        "plt.xlabel(\"Iteration\")\n",
        "ax.set_ylim(0,70)\n",
        "ax.legend()\n",
        "plt.savefig(\"loss.png\")"
      ]
    },
    {
      "cell_type": "markdown",
      "source": [
        "# 新段落"
      ],
      "metadata": {
        "id": "_Jids9-WQXMu"
      },
      "id": "_Jids9-WQXMu"
    },
    {
      "cell_type": "markdown",
      "source": [
        "# 新段落"
      ],
      "metadata": {
        "id": "igEmLtxpQXlY"
      },
      "id": "igEmLtxpQXlY"
    },
    {
      "cell_type": "code",
      "execution_count": null,
      "id": "a4310c8f",
      "metadata": {
        "id": "a4310c8f"
      },
      "outputs": [],
      "source": [
        ""
      ]
    },
    {
      "cell_type": "code",
      "execution_count": null,
      "id": "909acde6",
      "metadata": {
        "id": "909acde6"
      },
      "outputs": [],
      "source": [
        ""
      ]
    }
  ],
  "metadata": {
    "kernelspec": {
      "display_name": "Python 3 (ipykernel)",
      "language": "python",
      "name": "python3"
    },
    "language_info": {
      "codemirror_mode": {
        "name": "ipython",
        "version": 3
      },
      "file_extension": ".py",
      "mimetype": "text/x-python",
      "name": "python",
      "nbconvert_exporter": "python",
      "pygments_lexer": "ipython3",
      "version": "3.9.10"
    },
    "colab": {
      "name": "dl_lab5.ipynb",
      "provenance": [],
      "collapsed_sections": []
    },
    "accelerator": "GPU"
  },
  "nbformat": 4,
  "nbformat_minor": 5
}