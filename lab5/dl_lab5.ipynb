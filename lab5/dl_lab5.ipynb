{
  "cells": [
    {
      "cell_type": "code",
      "execution_count": 1,
      "id": "db49a0fa",
      "metadata": {
        "id": "db49a0fa"
      },
      "outputs": [],
      "source": [
        "import torch\n",
        "from torchvision import transforms\n",
        "from torch.utils.data import Dataset\n",
        "\n",
        "class MyDataset(Dataset):\n",
        "  def __init__(self, size=5000, dim=40, random_offset=0):\n",
        "        super(MyDataset, self).__init__()\n",
        "        self.size = size\n",
        "        self.dim = dim\n",
        "        self.random_offset = random_offset\n",
        "\n",
        "  def __getitem__(self, index):\n",
        "      if index >= len(self):\n",
        "          raise IndexError(\"{} index out of range\".format(self.__class__.__name__))\n",
        "\n",
        "      rng_state = torch.get_rng_state()\n",
        "      torch.manual_seed(index + self.random_offset)\n",
        "\n",
        "      while True:\n",
        "        img = torch.zeros(self.dim, self.dim)\n",
        "        dx = torch.randint(-10,10,(1,),dtype=torch.float)\n",
        "        dy = torch.randint(-10,10,(1,),dtype=torch.float)\n",
        "        c = torch.randint(-20,20,(1,), dtype=torch.float)\n",
        "\n",
        "        params = torch.cat((dy/dx, c))\n",
        "        xy = torch.randint(0,img.shape[1], (20, 2), dtype=torch.float)\n",
        "        xy[:,1] = xy[:,0] * params[0] + params[1]\n",
        "\n",
        "        xy.round_()\n",
        "        xy = xy[ xy[:,1] > 0 ]\n",
        "        xy = xy[ xy[:,1] < self.dim ]\n",
        "        xy = xy[ xy[:,0] < self.dim ]\n",
        "\n",
        "        for i in range(xy.shape[0]):\n",
        "          x, y = xy[i][0], self.dim - xy[i][1]\n",
        "          img[int(y), int(x)]=1\n",
        "        if img.sum() > 2:\n",
        "          break\n",
        "\n",
        "      torch.set_rng_state(rng_state)\n",
        "      return img.unsqueeze(0), params\n",
        "\n",
        "  def __len__(self):\n",
        "      return self.size\n",
        "    \n",
        "    \n",
        "device = torch.device(\"cuda\" if torch.cuda.is_available() else \"cpu\")\n",
        "    \n",
        "\n",
        "train_data = MyDataset()\n",
        "val_data = MyDataset(size=500, random_offset=33333)\n",
        "test_data = MyDataset(size=500, random_offset=99999)"
      ]
    },
    {
      "cell_type": "code",
      "execution_count": 2,
      "id": "4eed010d",
      "metadata": {
        "id": "4eed010d"
      },
      "outputs": [],
      "source": [
        "import torch.nn as nn\n",
        "import torch.nn.functional as F\n",
        "import torch.nn\n",
        "from torch.utils.data import DataLoader\n",
        "\n",
        "seed = 7\n",
        "torch.manual_seed(seed)\n",
        "torch.backends.cudnn.deterministic = True"
      ]
    },
    {
      "cell_type": "code",
      "execution_count": 3,
      "id": "801eb350",
      "metadata": {
        "id": "801eb350"
      },
      "outputs": [],
      "source": [
        "transform = transforms.Compose([transforms.ToTensor()])\n",
        "trainloader = DataLoader(train_data,batch_size= 128, shuffle=True)\n",
        "testloader = DataLoader(test_data,batch_size= 128, shuffle=True)\n"
      ]
    },
    {
      "cell_type": "code",
      "execution_count": 4,
      "id": "47cd0f79",
      "metadata": {
        "id": "47cd0f79"
      },
      "outputs": [],
      "source": [
        "class CNN(nn.Module):\n",
        "    def __init__(self):\n",
        "        super(CNN,self).__init__()\n",
        "        self.conv1 = nn.Conv2d(1,48,(3,3),stride=1,padding=1) # out 48 * 40*40\n",
        "        self.fc1 = nn.Linear(48* 40*40,128)\n",
        "        self.fc2 = nn.Linear(128 ,2)\n",
        "        \n",
        "    def forward(self, x):\n",
        "        out = self.conv1(x)\n",
        "        out = F.relu(out)\n",
        "        out = out.view(out.shape[0],-1)\n",
        "        out = self.fc1(out)\n",
        "        out = F.relu(out)\n",
        "        out = self.fc2(out)\n",
        "        return out      "
      ]
    },
    {
      "cell_type": "code",
      "source": [
        "class CNN2(nn.Module):\n",
        "    def __init__(self):\n",
        "        super(CNN2,self).__init__()\n",
        "        self.conv1 = nn.Conv2d(1,48,(3,3),stride=1,padding=1) # out 48 * 40*40\n",
        "        self.conv2 = nn.Conv2d(1,48,(3,3),stride=1,padding=1) # out 48 * 40*40\n",
        "        self.fc1 = nn.Linear(48* 10* 10,128)\n",
        "        self.fc2 = nn.Linear(128 ,2)\n",
        "        \n",
        "    def forward(self, x):\n",
        "        out = self.conv1(x)\n",
        "        out = F.relu(out)\n",
        "        out = self.conv2(x)\n",
        "        out = F.relu(out)\n",
        "        pooling = nn.AdaptiveMaxPool2d((10,10))\n",
        "        out = pooling(out)\n",
        "        out = out.view(out.shape[0],-1)\n",
        "        out = self.fc1(out)\n",
        "        out = F.relu(out)\n",
        "        out = self.fc2(out)\n",
        "        return out "
      ],
      "metadata": {
        "id": "jMOuHa6LQsun"
      },
      "id": "jMOuHa6LQsun",
      "execution_count": 10,
      "outputs": []
    },
    {
      "cell_type": "code",
      "execution_count": null,
      "id": "2956a9e4",
      "metadata": {
        "id": "2956a9e4",
        "colab": {
          "base_uri": "https://localhost:8080/"
        },
        "outputId": "8259cdcf-24ba-4676-a163-9ccc9ea60059"
      },
      "outputs": [
        {
          "output_type": "stream",
          "name": "stdout",
          "text": [
            "Epoch:0, loss=1811.2021484375\n",
            "Training loss:23.848928451538086, test loss: 25.073169708251953\n",
            "Epoch:1, loss=608.1259765625\n",
            "Training loss:10.020598411560059, test loss: 12.172219276428223\n",
            "Epoch:2, loss=353.6590881347656\n",
            "Training loss:7.468705177307129, test loss: 9.599662780761719\n",
            "Epoch:3, loss=265.4662780761719\n",
            "Training loss:6.493175506591797, test loss: 8.89526653289795\n",
            "Epoch:4, loss=206.87953186035156\n",
            "Training loss:4.4296956062316895, test loss: 6.916783332824707\n",
            "Epoch:5, loss=173.83425903320312\n",
            "Training loss:3.484698534011841, test loss: 5.411250114440918\n",
            "Epoch:6, loss=146.55162048339844\n",
            "Training loss:4.136559963226318, test loss: 5.9798173904418945\n",
            "Epoch:7, loss=158.2821044921875\n",
            "Training loss:2.882803201675415, test loss: 5.237332344055176\n",
            "Epoch:8, loss=115.38780975341797\n",
            "Training loss:2.347827196121216, test loss: 4.314728736877441\n",
            "Epoch:9, loss=92.24916076660156\n",
            "Training loss:2.1349661350250244, test loss: 3.6928510665893555\n",
            "Epoch:10, loss=92.11622619628906\n",
            "Training loss:2.2207889556884766, test loss: 4.019261837005615\n",
            "Epoch:11, loss=78.45274353027344\n",
            "Training loss:1.8121942281723022, test loss: 3.5775504112243652\n",
            "Epoch:12, loss=70.36546325683594\n",
            "Training loss:1.6304043531417847, test loss: 3.493551254272461\n",
            "Epoch:13, loss=70.56170654296875\n",
            "Training loss:1.8066043853759766, test loss: 3.528721809387207\n",
            "Epoch:14, loss=67.44230651855469\n",
            "Training loss:1.7939233779907227, test loss: 3.724794387817383\n",
            "Epoch:15, loss=69.66131591796875\n",
            "Training loss:1.354138731956482, test loss: 3.3671398162841797\n",
            "Epoch:16, loss=57.89826583862305\n",
            "Training loss:1.5110830068588257, test loss: 3.4760427474975586\n",
            "Epoch:17, loss=52.864532470703125\n",
            "Training loss:1.0951964855194092, test loss: 3.1740522384643555\n",
            "Epoch:18, loss=50.47090148925781\n",
            "Training loss:2.0487451553344727, test loss: 4.006435871124268\n",
            "Epoch:19, loss=64.40918731689453\n",
            "Training loss:1.1129783391952515, test loss: 3.324306011199951\n",
            "Epoch:20, loss=51.25558853149414\n",
            "Training loss:1.142605185508728, test loss: 3.241672992706299\n",
            "Epoch:21, loss=44.903038024902344\n",
            "Training loss:1.0810747146606445, test loss: 3.1986734867095947\n",
            "Epoch:22, loss=48.62572479248047\n",
            "Training loss:1.0575883388519287, test loss: 3.279128074645996\n",
            "Epoch:23, loss=40.54695510864258\n",
            "Training loss:1.2523523569107056, test loss: 3.290827989578247\n",
            "Epoch:24, loss=38.06256866455078\n",
            "Training loss:0.8856142163276672, test loss: 3.0541653633117676\n",
            "Epoch:25, loss=35.361209869384766\n",
            "Training loss:0.7511547803878784, test loss: 2.9778575897216797\n",
            "Epoch:26, loss=38.5669059753418\n",
            "Training loss:0.7841285467147827, test loss: 2.9927518367767334\n",
            "Epoch:27, loss=38.022987365722656\n",
            "Training loss:1.3539745807647705, test loss: 3.5991029739379883\n",
            "Epoch:28, loss=37.84612274169922\n",
            "Training loss:0.6952593326568604, test loss: 3.046985626220703\n",
            "Epoch:29, loss=30.725210189819336\n",
            "Training loss:0.6826109290122986, test loss: 2.9680392742156982\n",
            "Epoch:30, loss=28.997896194458008\n",
            "Training loss:0.711165726184845, test loss: 3.131256103515625\n",
            "Epoch:31, loss=30.46449089050293\n",
            "Training loss:0.829469621181488, test loss: 3.031651258468628\n",
            "Epoch:32, loss=32.121376037597656\n",
            "Training loss:1.1084421873092651, test loss: 3.4031341075897217\n",
            "Epoch:33, loss=32.229000091552734\n",
            "Training loss:0.7936951518058777, test loss: 3.213146686553955\n",
            "Epoch:34, loss=30.73821258544922\n",
            "Training loss:0.7423756718635559, test loss: 3.068970203399658\n"
          ]
        }
      ],
      "source": [
        "loss_func = F.mse_loss\n",
        "# model = CNN().to(device)\n",
        "model = CNN2().to(device)\n",
        "adam_opt = torch.optim.Adam(params=model.parameters(),lr=0.01)\n",
        "epochs = 100\n",
        "\n",
        "loss_list1 = []\n",
        "loss_list2 = []\n",
        "\n",
        "for epoch in range(epochs):\n",
        "    # training \n",
        "    loss_sum = 0\n",
        "    for batch in trainloader:\n",
        "        data,targets = batch\n",
        "        adam_opt.zero_grad()\n",
        "        out = model.forward(data.to(device))\n",
        "        loss = loss_func(out.to(device),targets.to(device)).to(device)\n",
        "        loss.backward()\n",
        "        loss_sum += loss\n",
        "        adam_opt.step()\n",
        "    print(\"Epoch:{}, loss={}\".format(epoch,loss_sum))\n",
        "    \n",
        "    # training loss\n",
        "    training_loss = 0\n",
        "    for batch in trainloader:\n",
        "        data,targets = batch\n",
        "        out = model.forward(data.to(device))\n",
        "        loss = loss_func(out.to(device),targets.to(device)).to(device)\n",
        "        training_loss += loss\n",
        "    #test\n",
        "    test_loss = 0\n",
        "    for batch in testloader:\n",
        "        data,targets = batch\n",
        "        out = model.forward(data.to(device))\n",
        "        loss = loss_func(out.to(device),targets.to(device)).to(device)\n",
        "        test_loss += loss\n",
        "    print(\"Training loss:{}, test loss: {}\".format(training_loss/len(trainloader),test_loss/len(testloader)))\n",
        "    loss_list1.append(training_loss.item()/len(trainloader))\n",
        "    loss_list2.append(test_loss.item()/len(testloader))"
      ]
    },
    {
      "cell_type": "code",
      "execution_count": 10,
      "id": "484eadf8",
      "metadata": {
        "id": "484eadf8",
        "colab": {
          "base_uri": "https://localhost:8080/",
          "height": 283
        },
        "outputId": "ef98a908-5aef-4d94-c8cf-544e5d64b6d9"
      },
      "outputs": [
        {
          "output_type": "display_data",
          "data": {
            "text/plain": [
              "<Figure size 576x288 with 1 Axes>"
            ],
            "image/png": "[encoded data removed]"
          },
          "metadata": {
            "needs_background": "light"
          }
        }
      ],
      "source": [
        "import matplotlib.pyplot as plt\n",
        "\n",
        "fig, ax = plt.subplots(figsize = (8,4))\n",
        "ax.plot(loss_list1, color = \"red\",label=\"training\")\n",
        "ax.plot(loss_list2, color = \"blue\",label=\"test\")\n",
        "ax.grid(True)\n",
        "plt.ylabel(\"Loss\")\n",
        "plt.xlabel(\"Iteration\")\n",
        "ax.set_ylim(0,70)\n",
        "ax.legend()\n",
        "plt.savefig(\"loss1.png\")"
      ]
    },
    {
      "cell_type": "markdown",
      "source": [
        "# 新段落"
      ],
      "metadata": {
        "id": "_Jids9-WQXMu"
      },
      "id": "_Jids9-WQXMu"
    },
    {
      "cell_type": "markdown",
      "source": [
        "# 新段落"
      ],
      "metadata": {
        "id": "igEmLtxpQXlY"
      },
      "id": "igEmLtxpQXlY"
    },
    {
      "cell_type": "code",
      "execution_count": null,
      "id": "a4310c8f",
      "metadata": {
        "id": "a4310c8f"
      },
      "outputs": [],
      "source": [
        ""
      ]
    },
    {
      "cell_type": "code",
      "execution_count": null,
      "id": "909acde6",
      "metadata": {
        "id": "909acde6"
      },
      "outputs": [],
      "source": [
        ""
      ]
    }
  ],
  "metadata": {
    "kernelspec": {
      "display_name": "Python 3 (ipykernel)",
      "language": "python",
      "name": "python3"
    },
    "language_info": {
      "codemirror_mode": {
        "name": "ipython",
        "version": 3
      },
      "file_extension": ".py",
      "mimetype": "text/x-python",
      "name": "python",
      "nbconvert_exporter": "python",
      "pygments_lexer": "ipython3",
      "version": "3.9.10"
    },
    "colab": {
      "name": "dl_lab5.ipynb",
      "provenance": [],
      "collapsed_sections": []
    },
    "accelerator": "GPU"
  },
  "nbformat": 4,
  "nbformat_minor": 5
}