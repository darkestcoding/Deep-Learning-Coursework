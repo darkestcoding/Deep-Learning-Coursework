{
 "cells": [
  {
   "cell_type": "code",
   "execution_count": 1,
   "id": "16106397",
   "metadata": {},
   "outputs": [],
   "source": [
    "import torch\n",
    "from torchvision import transforms\n",
    "from torch.utils.data import Dataset\n",
    "\n",
    "class MyDataset(Dataset):\n",
    "  def __init__(self, size=5000, dim=40, random_offset=0):\n",
    "        super(MyDataset, self).__init__()\n",
    "        self.size = size\n",
    "        self.dim = dim\n",
    "        self.random_offset = random_offset\n",
    "\n",
    "  def __getitem__(self, index):\n",
    "      if index >= len(self):\n",
    "          raise IndexError(\"{} index out of range\".format(self.__class__.__name__))\n",
    "\n",
    "      rng_state = torch.get_rng_state()\n",
    "      torch.manual_seed(index + self.random_offset)\n",
    "\n",
    "      while True:\n",
    "        img = torch.zeros(self.dim, self.dim)\n",
    "        dx = torch.randint(-10,10,(1,),dtype=torch.float)\n",
    "        dy = torch.randint(-10,10,(1,),dtype=torch.float)\n",
    "        c = torch.randint(-20,20,(1,), dtype=torch.float)\n",
    "\n",
    "        params = torch.cat((dy/dx, c))\n",
    "        xy = torch.randint(0,img.shape[1], (20, 2), dtype=torch.float)\n",
    "        xy[:,1] = xy[:,0] * params[0] + params[1]\n",
    "\n",
    "        xy.round_()\n",
    "        xy = xy[ xy[:,1] > 0 ]\n",
    "        xy = xy[ xy[:,1] < self.dim ]\n",
    "        xy = xy[ xy[:,0] < self.dim ]\n",
    "\n",
    "        for i in range(xy.shape[0]):\n",
    "          x, y = xy[i][0], self.dim - xy[i][1]\n",
    "          img[int(y), int(x)]=1\n",
    "        if img.sum() > 2:\n",
    "          break\n",
    "\n",
    "      torch.set_rng_state(rng_state)\n",
    "      return img.unsqueeze(0), params\n",
    "\n",
    "  def __len__(self):\n",
    "      return self.size\n",
    "\n",
    "train_data = MyDataset()\n",
    "val_data = MyDataset(size=500, random_offset=33333)\n",
    "test_data = MyDataset(size=500, random_offset=99999)"
   ]
  },
  {
   "cell_type": "code",
   "execution_count": 58,
   "id": "4bff599c",
   "metadata": {},
   "outputs": [],
   "source": [
    "import torch.nn as nn\n",
    "import torch.nn.functional as F\n",
    "import torch.nn\n",
    "from torch.utils.data import DataLoader\n",
    "\n",
    "seed = 7\n",
    "torch.manual_seed(seed)\n",
    "torch.backends.cudnn.deterministic = True"
   ]
  },
  {
   "cell_type": "code",
   "execution_count": 59,
   "id": "25587884",
   "metadata": {},
   "outputs": [],
   "source": [
    "transform = transforms.Compose([transforms.ToTensor()])\n",
    "trainloader = DataLoader(train_data,batch_size= 128, shuffle=True)\n",
    "testloader = DataLoader(test_data,batch_size= 128, shuffle=True)\n"
   ]
  },
  {
   "cell_type": "code",
   "execution_count": 60,
   "id": "04f79a9b",
   "metadata": {},
   "outputs": [],
   "source": [
    "class CNN(nn.Module):\n",
    "    def __init__(self):\n",
    "        super(CNN,self).__init__()\n",
    "        self.conv1 = nn.Conv2d(1,48,(3,3),stride=1,padding=1) # out 48 * 40*40\n",
    "        self.fc1 = nn.Linear(48* 40*40,128)\n",
    "        self.fc2 = nn.Linear(128 ,2)\n",
    "        \n",
    "    def forward(self, x):\n",
    "        out = self.conv1(x)\n",
    "        out = F.relu(out)\n",
    "        out = out.view(out.shape[0],-1)\n",
    "        out = self.fc1(out)\n",
    "        out = F.relu(out)\n",
    "        out = self.fc2(out)\n",
    "        return out      "
   ]
  },
  {
   "cell_type": "code",
   "execution_count": null,
   "id": "2111460b",
   "metadata": {},
   "outputs": [],
   "source": [
    "loss_func = F.mse_loss\n",
    "model = CNN()\n",
    "adam_opt = torch.optim.Adam(params=model.parameters(),lr=0.01)\n",
    "epochs = 100\n",
    "\n",
    "loss_list1 = []\n",
    "loss_list2 = []\n",
    "\n",
    "for epoch in range(epochs):\n",
    "    # training \n",
    "    loss_sum = 0\n",
    "    for batch in trainloader:\n",
    "        data,targets = batch\n",
    "        adam_opt.zero_grad()\n",
    "        out = model.forward(data)\n",
    "        loss = loss_func(out,targets)\n",
    "        loss.backward()\n",
    "        loss_sum += loss\n",
    "        adam_opt.step()\n",
    "    print(\"Epoch:{}, loss={}\".format(epoch,loss_sum))\n",
    "    \n",
    "    # training loss\n",
    "    training_loss = 0\n",
    "    for batch in trainloader:\n",
    "        data,targets = batch\n",
    "        out = model.forward(data)\n",
    "        loss = loss_func(out,targets)\n",
    "        training_loss += loss\n",
    "    #test\n",
    "    test_loss = 0\n",
    "    for batch in testloader:\n",
    "        data,targets = batch\n",
    "        out = model.forward(data)\n",
    "        loss = loss_func(out,targets)\n",
    "        test_loss += loss\n",
    "    print(\"Training loss:{}, test loss: {}\".format(training_loss/len(trainloader),test_loss)/len(testloader))\n",
    "    loss_list1.append(training_loss.item()/len(trainloader))\n",
    "    loss_list2.append(test_loss.item()/len(testloader))"
   ]
  },
  {
   "cell_type": "code",
   "execution_count": 73,
   "id": "b165d753",
   "metadata": {},
   "outputs": [
    {
     "data": {
      "image/png": "[encoded data removed]",
      "text/plain": [
       "<Figure size 576x288 with 1 Axes>"
      ]
     },
     "metadata": {
      "needs_background": "light"
     },
     "output_type": "display_data"
    }
   ],
   "source": [
    "import matplotlib.pyplot as plt\n",
    "\n",
    "fig, ax = plt.subplots(figsize = (8,4))\n",
    "ax.plot(loss_list1, color = \"red\",label=\"training\")\n",
    "ax.plot(loss_list2, color = \"blue\",label=\"test\")\n",
    "ax.grid(True)\n",
    "plt.ylabel(\"Loss\")\n",
    "plt.xlabel(\"Iteration\")\n",
    "ax.legend()\n",
    "plt.savefig(\"loss.png\")"
   ]
  },
  {
   "cell_type": "code",
   "execution_count": 71,
   "id": "07f8199e",
   "metadata": {},
   "outputs": [
    {
     "data": {
      "text/plain": [
       "[tensor(2409.8247, grad_fn=<AddBackward0>),\n",
       " tensor(1328.3341, grad_fn=<AddBackward0>),\n",
       " tensor(947.9938, grad_fn=<AddBackward0>),\n",
       " tensor(749.4002, grad_fn=<AddBackward0>)]"
      ]
     },
     "execution_count": 71,
     "metadata": {},
     "output_type": "execute_result"
    }
   ],
   "source": []
  },
  {
   "cell_type": "code",
   "execution_count": null,
   "id": "efe4727b",
   "metadata": {},
   "outputs": [],
   "source": []
  }
 ],
 "metadata": {
  "kernelspec": {
   "display_name": "Python 3 (ipykernel)",
   "language": "python",
   "name": "python3"
  },
  "language_info": {
   "codemirror_mode": {
    "name": "ipython",
    "version": 3
   },
   "file_extension": ".py",
   "mimetype": "text/x-python",
   "name": "python",
   "nbconvert_exporter": "python",
   "pygments_lexer": "ipython3",
   "version": "3.9.10"
  }
 },
 "nbformat": 4,
 "nbformat_minor": 5
}
