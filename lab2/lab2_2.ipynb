{
 "cells": [
  {
   "cell_type": "code",
   "execution_count": 4,
   "id": "5615236c",
   "metadata": {},
   "outputs": [],
   "source": [
    "import pandas as pd\n",
    "import torch\n",
    "from typing import Tuple\n",
    "from matplotlib import pyplot as plt\n",
    "import numpy as np\n"
   ]
  },
  {
   "cell_type": "code",
   "execution_count": 5,
   "id": "68124beb",
   "metadata": {},
   "outputs": [],
   "source": [
    "df = pd.read_csv('http://archive.ics.uci.edu/ml/machine-learning-databases/iris/iris.data', header=None)\n",
    "df = df.sample(frac=1)\n",
    "\n",
    "mapping = {k: v for v,k in enumerate(df[4].unique())}\n",
    "df[5] = df[4].map(mapping)\n"
   ]
  },
  {
   "cell_type": "code",
   "execution_count": 6,
   "id": "c7ad9d11",
   "metadata": {},
   "outputs": [],
   "source": [
    "alldata = torch.tensor(df.iloc[:,[0,1,2,3]].values, dtype= torch.float)\n",
    "alldata = (alldata - alldata.mean(dim=0))/alldata.var(dim=0)"
   ]
  },
  {
   "cell_type": "code",
   "execution_count": 7,
   "id": "3a4c49a3",
   "metadata": {},
   "outputs": [],
   "source": [
    "targets_tr = torch.tensor(df.iloc[:100, 5].values,dtype=torch.long)\n",
    "targets_va = torch.tensor(df.iloc[100:, 5].values,dtype=torch.long)\n",
    "data_tr = alldata[:100]\n",
    "data_va = alldata[100:]\n"
   ]
  },
  {
   "cell_type": "code",
   "execution_count": 8,
   "id": "fd18ae86",
   "metadata": {},
   "outputs": [],
   "source": [
    "def accuracy(prediction,target):\n",
    "    result = []\n",
    "    for i in range(prediction.shape[0]):\n",
    "        index = torch.argmax(prediction[i,:]).item()\n",
    "        result.append(index)\n",
    "    score = 0\n",
    "    result = torch.tensor(result)\n",
    "    for i in range(prediction.shape[0]):\n",
    "        if result[i] == target[i]:\n",
    "            score+=1\n",
    "    accuracy = score / prediction.shape[0]\n",
    "    return accuracy"
   ]
  },
  {
   "cell_type": "code",
   "execution_count": 10,
   "id": "182c66a4",
   "metadata": {
    "scrolled": true
   },
   "outputs": [
    {
     "name": "stdout",
     "output_type": "stream",
     "text": [
      "training set accuracy: 0.97\n",
      "validating set accuracy: 0.96\n",
      "training set accuracy: 0.95\n",
      "validating set accuracy: 0.96\n",
      "training set accuracy: 0.97\n",
      "validating set accuracy: 0.94\n",
      "training set accuracy: 0.88\n",
      "validating set accuracy: 0.84\n",
      "training set accuracy: 0.97\n",
      "validating set accuracy: 0.94\n",
      "training set accuracy: 0.97\n",
      "validating set accuracy: 0.94\n",
      "training set accuracy: 0.97\n",
      "validating set accuracy: 0.94\n",
      "training set accuracy: 0.91\n",
      "validating set accuracy: 0.96\n",
      "training set accuracy: 0.97\n",
      "validating set accuracy: 0.94\n",
      "training set accuracy: 0.97\n",
      "validating set accuracy: 0.96\n"
     ]
    }
   ],
   "source": [
    "for i in range(10):\n",
    "#MLP \n",
    "    epochs = 100\n",
    "    lr = 0.01\n",
    "    W1 = torch.randn(4,10,requires_grad = True)\n",
    "    W2 = torch.rand(10,3,requires_grad = True)\n",
    "    b1 = torch.zeros(10,requires_grad = True)\n",
    "    b2 = torch.zeros(3,requires_grad = True)\n",
    "\n",
    "    # training \n",
    "    for epoch in range(epochs):\n",
    "        W1.grad,W2.grad,b1.grad,b2.grad = torch.zeros(W1.shape),torch.zeros(W2.shape),\\\n",
    "                                                torch.zeros(b1.shape),torch.zeros(b2.shape)\n",
    "        logits = torch.relu(data_tr @ W1 +b1) @ W2 + b2\n",
    "        loss = torch.nn.functional.cross_entropy(logits, targets_tr, reduction=\"sum\")\n",
    "        loss.backward()\n",
    "        W1.data -= lr *W1.grad \n",
    "        W2.data -= lr *W2.grad\n",
    "        b1.data -= lr* b1.grad\n",
    "        b2.data -= lr* b2.grad\n",
    "    \n",
    "    #     if epoch %10==0:\n",
    "    #         print(\"epoch:{} loss:{}\".format(epoch,loss))\n",
    "\n",
    "    # loss = torch.nn.functional.cross_entropy(torch.relu(data_tr @ W1 +b1) @ W2 + b2, targets_tr, reduction=\"sum\")\n",
    "    # print(\"training set loss:\",loss.item())\n",
    "\n",
    "    # training accuracy\n",
    "    prediction_tr = torch.sigmoid(torch.relu(data_tr @ W1 +b1) @ W2 + b2)\n",
    "    accuracy_tr = accuracy(prediction_tr,targets_tr)\n",
    "    print(\"training set accuracy:\",accuracy_tr)\n",
    "\n",
    "    #validating accuracy\n",
    "    prediction_va = torch.sigmoid(torch.relu(data_va @ W1 +b1) @ W2 + b2)\n",
    "    accuracy_va = accuracy(prediction_va,targets_va)\n",
    "    print(\"validating set accuracy:\",accuracy_va)"
   ]
  },
  {
   "cell_type": "code",
   "execution_count": null,
   "id": "f8c6cb51",
   "metadata": {},
   "outputs": [],
   "source": []
  }
 ],
 "metadata": {
  "kernelspec": {
   "display_name": "Python 3 (ipykernel)",
   "language": "python",
   "name": "python3"
  },
  "language_info": {
   "codemirror_mode": {
    "name": "ipython",
    "version": 3
   },
   "file_extension": ".py",
   "mimetype": "text/x-python",
   "name": "python",
   "nbconvert_exporter": "python",
   "pygments_lexer": "ipython3",
   "version": "3.9.10"
  }
 },
 "nbformat": 4,
 "nbformat_minor": 5
}
