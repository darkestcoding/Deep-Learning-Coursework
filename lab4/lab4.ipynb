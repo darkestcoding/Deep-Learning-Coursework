{
 "cells": [
  {
   "cell_type": "code",
   "execution_count": 17,
   "id": "5e6aa803",
   "metadata": {},
   "outputs": [],
   "source": [
    "import torch \n",
    "import torchvision.transforms as transforms\n",
    "import torch.nn.functional\n",
    "from torch.utils.data import DataLoader\n",
    "from torchvision.datasets import MNIST\n",
    "import matplotlib.pyplot as plt"
   ]
  },
  {
   "cell_type": "code",
   "execution_count": 10,
   "id": "4f520e3b",
   "metadata": {},
   "outputs": [],
   "source": [
    "transform = transforms.Compose([transforms.ToTensor(), transforms.Lambda(lambda x: x.view(-1))])\n",
    "train_data = MNIST(\".\",download=True,train=True,transform=transform)\n",
    "test_data = MNIST(\".\",download=True,train=False,transform=transform)\n",
    "train_loader = DataLoader(train_data,shuffle=True,batch_size=128)\n",
    "test_loader = DataLoader(test_data,shuffle=True,batch_size=128)"
   ]
  },
  {
   "cell_type": "code",
   "execution_count": 3,
   "id": "7085110d",
   "metadata": {},
   "outputs": [],
   "source": [
    "class BaselineModel(torch.nn.Module):\n",
    "    def __init__(self,input_size,hidden_size,output_size):\n",
    "        super(BaselineModel,self).__init__()\n",
    "        self.fc1 = torch.nn.Linear(input_size,hidden_size)\n",
    "        self.fc2 = torch.nn.Linear(hidden_size,output_size)\n",
    "        \n",
    "    def forward(self,x):\n",
    "        output = self.fc1(x)\n",
    "        output = torch.relu(output)\n",
    "        output = self.fc2(output)\n",
    "        if not self.training:\n",
    "            output = torch.softmax(output,dim=1)\n",
    "        return output"
   ]
  },
  {
   "cell_type": "code",
   "execution_count": 6,
   "id": "7acc18fd",
   "metadata": {},
   "outputs": [],
   "source": [
    "def accuracy(output,labels):\n",
    "    class_correct = 0\n",
    "    class_total = 0\n",
    "    for i,output_data in enumerate(output):\n",
    "        index = torch.argmax(output_data)\n",
    "        if index == labels[i]:\n",
    "            class_correct +=1\n",
    "        class_total += 1\n",
    "    return class_correct/class_total"
   ]
  },
  {
   "cell_type": "code",
   "execution_count": 19,
   "id": "5c145585",
   "metadata": {},
   "outputs": [
    {
     "name": "stdout",
     "output_type": "stream",
     "text": [
      "epoch: 0, training_loss(batch avg):1.1278108944262524 ,training_accuracy: 0.7770166666666667 \n",
      "epoch: 0, test_loss(batch avg):1.1077199857446212 ,test_accuracy: 0.7847 \n"
     ]
    },
    {
     "ename": "KeyboardInterrupt",
     "evalue": "",
     "output_type": "error",
     "traceback": [
      "\u001b[0;31m---------------------------------------------------------------------------\u001b[0m",
      "\u001b[0;31mKeyboardInterrupt\u001b[0m                         Traceback (most recent call last)",
      "\u001b[0;32m/var/folders/9t/3907yg9d1dxgnn644749_hm40000gn/T/ipykernel_71667/3624065895.py\u001b[0m in \u001b[0;36m<module>\u001b[0;34m\u001b[0m\n\u001b[1;32m     18\u001b[0m         \u001b[0;32mfor\u001b[0m \u001b[0mbatch\u001b[0m \u001b[0;32min\u001b[0m \u001b[0mtrain_loader\u001b[0m\u001b[0;34m:\u001b[0m\u001b[0;34m\u001b[0m\u001b[0;34m\u001b[0m\u001b[0m\n\u001b[1;32m     19\u001b[0m             \u001b[0mdata\u001b[0m\u001b[0;34m,\u001b[0m\u001b[0mlabels\u001b[0m \u001b[0;34m=\u001b[0m \u001b[0mbatch\u001b[0m\u001b[0;34m\u001b[0m\u001b[0;34m\u001b[0m\u001b[0m\n\u001b[0;32m---> 20\u001b[0;31m             \u001b[0mSGD_optimiser\u001b[0m\u001b[0;34m.\u001b[0m\u001b[0mzero_grad\u001b[0m\u001b[0;34m(\u001b[0m\u001b[0;34m)\u001b[0m\u001b[0;34m\u001b[0m\u001b[0;34m\u001b[0m\u001b[0m\n\u001b[0m\u001b[1;32m     21\u001b[0m             \u001b[0moutput\u001b[0m \u001b[0;34m=\u001b[0m \u001b[0mmodel\u001b[0m\u001b[0;34m.\u001b[0m\u001b[0mforward\u001b[0m\u001b[0;34m(\u001b[0m\u001b[0mdata\u001b[0m\u001b[0;34m)\u001b[0m\u001b[0;34m\u001b[0m\u001b[0;34m\u001b[0m\u001b[0m\n\u001b[1;32m     22\u001b[0m             \u001b[0mloss\u001b[0m \u001b[0;34m=\u001b[0m \u001b[0mloss_function\u001b[0m\u001b[0;34m(\u001b[0m\u001b[0moutput\u001b[0m\u001b[0;34m,\u001b[0m\u001b[0mlabels\u001b[0m\u001b[0;34m)\u001b[0m\u001b[0;34m\u001b[0m\u001b[0;34m\u001b[0m\u001b[0m\n",
      "\u001b[0;32m~/miniforge3/envs/pytorch_env/lib/python3.9/site-packages/torch/optim/optimizer.py\u001b[0m in \u001b[0;36mzero_grad\u001b[0;34m(self, set_to_none)\u001b[0m\n\u001b[1;32m    215\u001b[0m                             \u001b[0;32melse\u001b[0m\u001b[0;34m:\u001b[0m\u001b[0;34m\u001b[0m\u001b[0;34m\u001b[0m\u001b[0m\n\u001b[1;32m    216\u001b[0m                                 \u001b[0mp\u001b[0m\u001b[0;34m.\u001b[0m\u001b[0mgrad\u001b[0m\u001b[0;34m.\u001b[0m\u001b[0mrequires_grad_\u001b[0m\u001b[0;34m(\u001b[0m\u001b[0;32mFalse\u001b[0m\u001b[0;34m)\u001b[0m\u001b[0;34m\u001b[0m\u001b[0;34m\u001b[0m\u001b[0m\n\u001b[0;32m--> 217\u001b[0;31m                             \u001b[0mp\u001b[0m\u001b[0;34m.\u001b[0m\u001b[0mgrad\u001b[0m\u001b[0;34m.\u001b[0m\u001b[0mzero_\u001b[0m\u001b[0;34m(\u001b[0m\u001b[0;34m)\u001b[0m\u001b[0;34m\u001b[0m\u001b[0;34m\u001b[0m\u001b[0m\n\u001b[0m\u001b[1;32m    218\u001b[0m \u001b[0;34m\u001b[0m\u001b[0m\n\u001b[1;32m    219\u001b[0m     \u001b[0;32mdef\u001b[0m \u001b[0mstep\u001b[0m\u001b[0;34m(\u001b[0m\u001b[0mself\u001b[0m\u001b[0;34m,\u001b[0m \u001b[0mclosure\u001b[0m\u001b[0;34m)\u001b[0m\u001b[0;34m:\u001b[0m\u001b[0;34m\u001b[0m\u001b[0;34m\u001b[0m\u001b[0m\n",
      "\u001b[0;31mKeyboardInterrupt\u001b[0m: "
     ]
    }
   ],
   "source": [
    "parameters_list = [50,250,784,2000,5000,10000,50000,200000]\n",
    "\n",
    "test_accuracy_list = []\n",
    "training_accuracy_list = []\n",
    "test_loss_list = []\n",
    "training_loss_list = []\n",
    "\n",
    "\n",
    "for para_index, parameter in enumerate(parameters_list):\n",
    "    model = BaselineModel(784,parameter,10)\n",
    "    SGD_optimiser = torch.optim.SGD(params=model.parameters(),lr=0.01)\n",
    "    loss_function = torch.nn.CrossEntropyLoss()\n",
    "    epochs = 2\n",
    "\n",
    "\n",
    "    for epoch in range(epochs):\n",
    "        #training \n",
    "        for batch in train_loader:\n",
    "            data,labels = batch\n",
    "            SGD_optimiser.zero_grad()\n",
    "            output = model.forward(data)\n",
    "            loss = loss_function(output,labels)\n",
    "            loss.backward()\n",
    "            SGD_optimiser.step()\n",
    "        \n",
    "        # the reason i computed the training loss again is that in the training process done before, we had losses of \n",
    "        # different data summed together in different stages(parameters) of training, so the loss of that specific data is related\n",
    "        # to that specific stage(weight parameter). But after each one epoch, we evaluated test set based on the parameters\n",
    "        # of the last updated version of that epoch. so i think it would be better to compare training set performance with \n",
    "        #test set performance if we have the same metric.\n",
    "        training_loss = 0\n",
    "        class_correct = 0\n",
    "        class_total = 0\n",
    "        for batch in train_loader:\n",
    "            data,labels = batch\n",
    "            output = model.forward(data)\n",
    "            loss = loss_function(output,labels)\n",
    "            training_loss += loss.item()\n",
    "            for i,output_data in enumerate(output):\n",
    "                index = torch.argmax(output_data)\n",
    "                if index == labels[i]:\n",
    "                    class_correct +=1\n",
    "                class_total += 1\n",
    "        training_accuracy_list.append(class_correct/class_total)\n",
    "        training_loss_list.append(training_loss)\n",
    "        print(\"epoch: {}, training_loss(batch avg):{} ,training_accuracy: {} \".format(epoch, training_loss/len(train_loader),class_correct/class_total))  \n",
    "        \n",
    "\n",
    "        #testing \n",
    "        test_loss = 0\n",
    "        class_correct = 0\n",
    "        class_total = 0\n",
    "        for batch in test_loader:\n",
    "            data,labels = batch\n",
    "            output = model.forward(data)\n",
    "            loss = loss_function(output,labels)\n",
    "            test_loss += loss.item()\n",
    "            for i,output_data in enumerate(output):\n",
    "                index = torch.argmax(output_data)\n",
    "                if index == labels[i]:\n",
    "                    class_correct +=1\n",
    "                class_total += 1\n",
    "        test_accuracy_list.append(class_correct/class_total)\n",
    "        test_loss_list.append(test_loss)\n",
    "        print(\"epoch: {}, test_loss(batch avg):{} ,test_accuracy: {} \".format(epoch, test_loss/len(test_loader),class_correct/class_total))\n",
    "\n",
    "    fig, ax = plt.subplots(figsize = (8,4))\n",
    "    ax.plot(training_accuracy_list, color = \"red\",label=\"training\")\n",
    "    ax.plot(test_accuracy_list, color = \"blue\",label=\"test\")\n",
    "    ax.grid(True)\n",
    "    plt.ylabel(\"Accuracy\")\n",
    "    plt.xlabel(\"Iteration\")\n",
    "    plt.title(\"Hidden Size: {}\".format(parameter))\n",
    "    ax.legend()\n",
    "    plt.savefig(\"Accuracy_{}.png\".format(parameter))\n",
    "    \n",
    "    fig, ax = plt.subplots(figsize = (8,4))\n",
    "    ax.plot(training_loss_list, color = \"red\",label=\"training\")\n",
    "    ax.plot(test_loss_list, color = \"blue\",label=\"test\")\n",
    "    ax.grid(True)\n",
    "    plt.ylabel(\"Loss\")\n",
    "    plt.xlabel(\"Iteration\")\n",
    "    plt.title(\"Hidden Size: {}\".format(parameter))\n",
    "    ax.legend()\n",
    "    plt.savefig(\"Loss_{}.png\".format(parameter))\n",
    "    \n"
   ]
  },
  {
   "cell_type": "code",
   "execution_count": null,
   "id": "1f502952",
   "metadata": {},
   "outputs": [],
   "source": []
  },
  {
   "cell_type": "code",
   "execution_count": 70,
   "id": "43835c5b",
   "metadata": {},
   "outputs": [
    {
     "data": {
      "text/plain": [
       "Dataset MNIST\n",
       "    Number of datapoints: 10000\n",
       "    Split: test\n",
       "    Root Location: .\n",
       "    Transforms (if any): Compose(\n",
       "                             ToTensor()\n",
       "                             Lambda()\n",
       "                         )\n",
       "    Target Transforms (if any): None"
      ]
     },
     "execution_count": 70,
     "metadata": {},
     "output_type": "execute_result"
    }
   ],
   "source": []
  },
  {
   "cell_type": "code",
   "execution_count": null,
   "id": "a68c4b3c",
   "metadata": {},
   "outputs": [],
   "source": []
  }
 ],
 "metadata": {
  "kernelspec": {
   "display_name": "Python 3 (ipykernel)",
   "language": "python",
   "name": "python3"
  },
  "language_info": {
   "codemirror_mode": {
    "name": "ipython",
    "version": 3
   },
   "file_extension": ".py",
   "mimetype": "text/x-python",
   "name": "python",
   "nbconvert_exporter": "python",
   "pygments_lexer": "ipython3",
   "version": "3.9.10"
  }
 },
 "nbformat": 4,
 "nbformat_minor": 5
}
