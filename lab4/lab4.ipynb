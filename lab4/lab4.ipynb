{
 "cells": [
  {
   "cell_type": "code",
   "execution_count": 18,
   "id": "5e6aa803",
   "metadata": {},
   "outputs": [],
   "source": [
    "import torch \n",
    "import torchvision.transforms as transforms\n",
    "import torch.nn.functional\n",
    "from torch.utils.data import DataLoader\n",
    "from torchvision.datasets import MNIST"
   ]
  },
  {
   "cell_type": "code",
   "execution_count": 19,
   "id": "4f520e3b",
   "metadata": {},
   "outputs": [],
   "source": [
    "transform = transforms.Compose([transforms.ToTensor(), transforms.Lambda(lambda x: x.view(-1))])\n",
    "train_data = MNIST(\".\",download=True,train=True,transform=transform)\n",
    "test_data = MNIST(\".\",download=True,train=False,transform=transform)\n",
    "train_loader = DataLoader(train_data,shuffle=True,batch_size=128)\n",
    "test_loader = DataLoader(test_data,shuffle=True,batch_size=128)"
   ]
  },
  {
   "cell_type": "code",
   "execution_count": 40,
   "id": "7085110d",
   "metadata": {},
   "outputs": [],
   "source": [
    "class BaselineModel(torch.nn.Module):\n",
    "    def __init__(self,input_size,hidden_size,output_size):\n",
    "        super(BaselineModel,self).__init__()\n",
    "        self.fc1 = torch.nn.Linear(input_size,hidden_size)\n",
    "        self.fc2 = torch.nn.Linear(hidden_size,output_size)\n",
    "        \n",
    "    def forward(self,x):\n",
    "        output = self.fc1(x)\n",
    "        output = torch.relu(output)\n",
    "        output = self.fc2(output)\n",
    "        if not self.training:\n",
    "            output = torch.softmax(output,dim=1)\n",
    "        return output"
   ]
  },
  {
   "cell_type": "code",
   "execution_count": 87,
   "id": "5c145585",
   "metadata": {},
   "outputs": [
    {
     "name": "stdout",
     "output_type": "stream",
     "text": [
      "epoch: 0, training_loss(batch avg):0.3182746053758715 \n",
      "epoch: 0, test_loss(batch avg):0.3086575441345384 \n",
      "epoch: 1, training_loss(batch avg):0.24706246676856775 \n",
      "epoch: 1, test_loss(batch avg):0.24121879361852816 \n",
      "epoch: 2, training_loss(batch avg):0.19958787508356546 \n",
      "epoch: 2, test_loss(batch avg):0.19743863530928576 \n",
      "epoch: 3, training_loss(batch avg):0.17049707983062465 \n",
      "epoch: 3, test_loss(batch avg):0.16836346591575235 \n",
      "epoch: 4, training_loss(batch avg):0.14438006194479175 \n",
      "epoch: 4, test_loss(batch avg):0.14762118769974647 \n",
      "epoch: 5, training_loss(batch avg):0.12917585805979873 \n",
      "epoch: 5, test_loss(batch avg):0.13381443870595738 \n",
      "epoch: 6, training_loss(batch avg):0.1121848603603301 \n",
      "epoch: 6, test_loss(batch avg):0.12007648431802098 \n",
      "epoch: 7, training_loss(batch avg):0.10329034928478666 \n",
      "epoch: 7, test_loss(batch avg):0.11052941770257452 \n",
      "epoch: 8, training_loss(batch avg):0.09176772788389405 \n",
      "epoch: 8, test_loss(batch avg):0.10058056910911316 \n",
      "epoch: 9, training_loss(batch avg):0.08400858003797053 \n",
      "epoch: 9, test_loss(batch avg):0.09568411866320839 \n",
      "epoch: 10, training_loss(batch avg):0.07751317576034618 \n",
      "epoch: 10, test_loss(batch avg):0.08985995583802084 \n",
      "epoch: 11, training_loss(batch avg):0.0707644031627346 \n",
      "epoch: 11, test_loss(batch avg):0.08606150753418856 \n",
      "epoch: 12, training_loss(batch avg):0.06599847949159615 \n",
      "epoch: 12, test_loss(batch avg):0.08360464053959409 \n",
      "epoch: 13, training_loss(batch avg):0.06139632711596072 \n",
      "epoch: 13, test_loss(batch avg):0.079381261775388 \n",
      "epoch: 14, training_loss(batch avg):0.05599033724325997 \n",
      "epoch: 14, test_loss(batch avg):0.07698498177047394 \n",
      "epoch: 15, training_loss(batch avg):0.05280430070253641 \n",
      "epoch: 15, test_loss(batch avg):0.07257541302662296 \n",
      "epoch: 16, training_loss(batch avg):0.04915140057876229 \n",
      "epoch: 16, test_loss(batch avg):0.07235709134536454 \n",
      "epoch: 17, training_loss(batch avg):0.046754128436671136 \n",
      "epoch: 17, test_loss(batch avg):0.0716361837768102 \n",
      "epoch: 18, training_loss(batch avg):0.044548910198562434 \n",
      "epoch: 18, test_loss(batch avg):0.06964199512583923 \n",
      "epoch: 19, training_loss(batch avg):0.04136098040017619 \n",
      "epoch: 19, test_loss(batch avg):0.06683441806183774 \n",
      "epoch: 20, training_loss(batch avg):0.039290022102992796 \n",
      "epoch: 20, test_loss(batch avg):0.0657839453012883 \n",
      "epoch: 21, training_loss(batch avg):0.03702284314079897 \n",
      "epoch: 21, test_loss(batch avg):0.06621097608269015 \n",
      "epoch: 22, training_loss(batch avg):0.03452115395227507 \n",
      "epoch: 22, test_loss(batch avg):0.06706988449573895 \n",
      "epoch: 23, training_loss(batch avg):0.033258130965528016 \n",
      "epoch: 23, test_loss(batch avg):0.06376603891766525 \n",
      "epoch: 24, training_loss(batch avg):0.03207196930506781 \n",
      "epoch: 24, test_loss(batch avg):0.06345616986008384 \n",
      "epoch: 25, training_loss(batch avg):0.030441796953188202 \n",
      "epoch: 25, test_loss(batch avg):0.063259863188561 \n",
      "epoch: 26, training_loss(batch avg):0.028319512889075128 \n",
      "epoch: 26, test_loss(batch avg):0.06147494796616367 \n",
      "epoch: 27, training_loss(batch avg):0.02703393805922984 \n",
      "epoch: 27, test_loss(batch avg):0.0614509004981646 \n",
      "epoch: 28, training_loss(batch avg):0.02564991616320286 \n",
      "epoch: 28, test_loss(batch avg):0.06213950333951772 \n",
      "epoch: 29, training_loss(batch avg):0.0251292930479084 \n",
      "epoch: 29, test_loss(batch avg):0.06115418789713773 \n",
      "epoch: 30, training_loss(batch avg):0.02337559459528435 \n",
      "epoch: 30, test_loss(batch avg):0.05981592749263148 \n",
      "epoch: 31, training_loss(batch avg):0.022309582560325166 \n",
      "epoch: 31, test_loss(batch avg):0.05948538039634122 \n",
      "epoch: 32, training_loss(batch avg):0.02137934491445404 \n",
      "epoch: 32, test_loss(batch avg):0.059155427025560335 \n",
      "epoch: 33, training_loss(batch avg):0.020625967359634987 \n",
      "epoch: 33, test_loss(batch avg):0.06054757240735277 \n",
      "epoch: 34, training_loss(batch avg):0.01949137611501316 \n",
      "epoch: 34, test_loss(batch avg):0.05969027591326946 \n",
      "epoch: 35, training_loss(batch avg):0.018544442215954252 \n",
      "epoch: 35, test_loss(batch avg):0.05854940597156558 \n",
      "epoch: 36, training_loss(batch avg):0.017776405224318444 \n",
      "epoch: 36, test_loss(batch avg):0.05758201686335327 \n",
      "epoch: 37, training_loss(batch avg):0.01717598369813709 \n",
      "epoch: 37, test_loss(batch avg):0.05616100781443942 \n",
      "epoch: 38, training_loss(batch avg):0.016550429596770198 \n",
      "epoch: 38, test_loss(batch avg):0.056143770017955875 \n",
      "epoch: 39, training_loss(batch avg):0.015807906226284786 \n",
      "epoch: 39, test_loss(batch avg):0.05765948920581443 \n",
      "epoch: 40, training_loss(batch avg):0.015262074121184695 \n",
      "epoch: 40, test_loss(batch avg):0.05791513591155976 \n",
      "epoch: 41, training_loss(batch avg):0.014480822958917951 \n",
      "epoch: 41, test_loss(batch avg):0.05706335742710323 \n"
     ]
    },
    {
     "ename": "KeyboardInterrupt",
     "evalue": "",
     "output_type": "error",
     "traceback": [
      "\u001b[0;31m---------------------------------------------------------------------------\u001b[0m",
      "\u001b[0;31mKeyboardInterrupt\u001b[0m                         Traceback (most recent call last)",
      "\u001b[0;32m/var/folders/9t/3907yg9d1dxgnn644749_hm40000gn/T/ipykernel_61214/1422460114.py\u001b[0m in \u001b[0;36m<module>\u001b[0;34m\u001b[0m\n\u001b[1;32m     10\u001b[0m     \u001b[0;32mfor\u001b[0m \u001b[0mbatch\u001b[0m \u001b[0;32min\u001b[0m \u001b[0mtrain_loader\u001b[0m\u001b[0;34m:\u001b[0m\u001b[0;34m\u001b[0m\u001b[0;34m\u001b[0m\u001b[0m\n\u001b[1;32m     11\u001b[0m         \u001b[0mdata\u001b[0m\u001b[0;34m,\u001b[0m\u001b[0mlabels\u001b[0m \u001b[0;34m=\u001b[0m \u001b[0mbatch\u001b[0m\u001b[0;34m\u001b[0m\u001b[0;34m\u001b[0m\u001b[0m\n\u001b[0;32m---> 12\u001b[0;31m         \u001b[0mSGD_optimiser\u001b[0m\u001b[0;34m.\u001b[0m\u001b[0mzero_grad\u001b[0m\u001b[0;34m(\u001b[0m\u001b[0;34m)\u001b[0m\u001b[0;34m\u001b[0m\u001b[0;34m\u001b[0m\u001b[0m\n\u001b[0m\u001b[1;32m     13\u001b[0m         \u001b[0moutput\u001b[0m \u001b[0;34m=\u001b[0m \u001b[0mmodel\u001b[0m\u001b[0;34m.\u001b[0m\u001b[0mforward\u001b[0m\u001b[0;34m(\u001b[0m\u001b[0mdata\u001b[0m\u001b[0;34m)\u001b[0m\u001b[0;34m\u001b[0m\u001b[0;34m\u001b[0m\u001b[0m\n\u001b[1;32m     14\u001b[0m         \u001b[0mloss\u001b[0m \u001b[0;34m=\u001b[0m \u001b[0mloss_function\u001b[0m\u001b[0;34m(\u001b[0m\u001b[0moutput\u001b[0m\u001b[0;34m,\u001b[0m\u001b[0mlabels\u001b[0m\u001b[0;34m)\u001b[0m\u001b[0;34m\u001b[0m\u001b[0;34m\u001b[0m\u001b[0m\n",
      "\u001b[0;32m~/miniforge3/envs/pytorch_env/lib/python3.9/site-packages/torch/optim/optimizer.py\u001b[0m in \u001b[0;36mzero_grad\u001b[0;34m(self, set_to_none)\u001b[0m\n\u001b[1;32m    215\u001b[0m                             \u001b[0;32melse\u001b[0m\u001b[0;34m:\u001b[0m\u001b[0;34m\u001b[0m\u001b[0;34m\u001b[0m\u001b[0m\n\u001b[1;32m    216\u001b[0m                                 \u001b[0mp\u001b[0m\u001b[0;34m.\u001b[0m\u001b[0mgrad\u001b[0m\u001b[0;34m.\u001b[0m\u001b[0mrequires_grad_\u001b[0m\u001b[0;34m(\u001b[0m\u001b[0;32mFalse\u001b[0m\u001b[0;34m)\u001b[0m\u001b[0;34m\u001b[0m\u001b[0;34m\u001b[0m\u001b[0m\n\u001b[0;32m--> 217\u001b[0;31m                             \u001b[0mp\u001b[0m\u001b[0;34m.\u001b[0m\u001b[0mgrad\u001b[0m\u001b[0;34m.\u001b[0m\u001b[0mzero_\u001b[0m\u001b[0;34m(\u001b[0m\u001b[0;34m)\u001b[0m\u001b[0;34m\u001b[0m\u001b[0;34m\u001b[0m\u001b[0m\n\u001b[0m\u001b[1;32m    218\u001b[0m \u001b[0;34m\u001b[0m\u001b[0m\n\u001b[1;32m    219\u001b[0m     \u001b[0;32mdef\u001b[0m \u001b[0mstep\u001b[0m\u001b[0;34m(\u001b[0m\u001b[0mself\u001b[0m\u001b[0;34m,\u001b[0m \u001b[0mclosure\u001b[0m\u001b[0;34m)\u001b[0m\u001b[0;34m:\u001b[0m\u001b[0;34m\u001b[0m\u001b[0;34m\u001b[0m\u001b[0m\n",
      "\u001b[0;31mKeyboardInterrupt\u001b[0m: "
     ]
    }
   ],
   "source": [
    "\n",
    "model = BaselineModel(784,784,10)\n",
    "SGD_optimiser = torch.optim.SGD(params=model.parameters(),momentum=0.9,lr=0.01)\n",
    "loss_function = torch.nn.CrossEntropyLoss()\n",
    "epochs = 10\n",
    "\n",
    "\n",
    "for epoch in range(epochs):\n",
    "    #training \n",
    "#     training_loss = 0\n",
    "    for batch in train_loader:\n",
    "        data,labels = batch\n",
    "        SGD_optimiser.zero_grad()\n",
    "        output = model.forward(data)\n",
    "        loss = loss_function(output,labels)\n",
    "        loss.backward()\n",
    "        SGD_optimiser.step()\n",
    "#         training_loss += loss.item()\n",
    "#     print(\"epoch: {}, training_loss(batch avg):{} \".format(epoch, training_loss/6))\n",
    "    \n",
    "    \n",
    "    training_loss = 0\n",
    "    for batch in train_loader:\n",
    "        data,labels = batch\n",
    "        output = model.forward(data)\n",
    "        loss = loss_function(output,labels)\n",
    "        training_loss += loss.item()\n",
    "    print(\"epoch: {}, training_loss(batch avg):{} \".format(epoch, training_loss/len(train_loader)))   \n",
    "        \n",
    "    #testing \n",
    "    test_loss = 0\n",
    "    for batch in test_loader:\n",
    "        data,labels = batch\n",
    "        output = model.forward(data)\n",
    "        loss = loss_function(output,labels)\n",
    "        test_loss += loss.item()\n",
    "    print(\"epoch: {}, test_loss(batch avg):{} \".format(epoch, test_loss/len(test_loader)))\n",
    "        \n"
   ]
  },
  {
   "cell_type": "code",
   "execution_count": 81,
   "id": "1f502952",
   "metadata": {},
   "outputs": [
    {
     "data": {
      "text/plain": [
       "79"
      ]
     },
     "execution_count": 81,
     "metadata": {},
     "output_type": "execute_result"
    }
   ],
   "source": [
    "len(test_loader)\n",
    "# len(train_loader)"
   ]
  },
  {
   "cell_type": "code",
   "execution_count": 70,
   "id": "43835c5b",
   "metadata": {},
   "outputs": [
    {
     "data": {
      "text/plain": [
       "Dataset MNIST\n",
       "    Number of datapoints: 10000\n",
       "    Split: test\n",
       "    Root Location: .\n",
       "    Transforms (if any): Compose(\n",
       "                             ToTensor()\n",
       "                             Lambda()\n",
       "                         )\n",
       "    Target Transforms (if any): None"
      ]
     },
     "execution_count": 70,
     "metadata": {},
     "output_type": "execute_result"
    }
   ],
   "source": []
  },
  {
   "cell_type": "code",
   "execution_count": null,
   "id": "a68c4b3c",
   "metadata": {},
   "outputs": [],
   "source": []
  }
 ],
 "metadata": {
  "kernelspec": {
   "display_name": "Python 3 (ipykernel)",
   "language": "python",
   "name": "python3"
  },
  "language_info": {
   "codemirror_mode": {
    "name": "ipython",
    "version": 3
   },
   "file_extension": ".py",
   "mimetype": "text/x-python",
   "name": "python",
   "nbconvert_exporter": "python",
   "pygments_lexer": "ipython3",
   "version": "3.9.10"
  }
 },
 "nbformat": 4,
 "nbformat_minor": 5
}
